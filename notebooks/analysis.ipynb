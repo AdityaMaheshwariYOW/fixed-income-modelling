{
  "nbformat": 4,
  "nbformat_minor": 0,
  "metadata": {
    "colab": {
      "provenance": []
    },
    "kernelspec": {
      "name": "python3",
      "display_name": "Python 3"
    },
    "language_info": {
      "name": "python"
    }
  },
  "cells": [
    {
      "cell_type": "markdown",
      "source": [
        "# Introduction"
      ],
      "metadata": {
        "id": "36GuV-D7A8sO"
      }
    },
    {
      "cell_type": "code",
      "source": [
        "from google.colab import drive\n",
        "import sys\n",
        "import numpy as np\n",
        "import pandas as pd\n",
        "import matplotlib.pyplot as plt\n",
        "import jax\n",
        "import jax.numpy as jnp\n",
        "from jax import lax\n",
        "from typing import Dict"
      ],
      "metadata": {
        "id": "txvv0pjcaUgi"
      },
      "execution_count": 1,
      "outputs": []
    },
    {
      "cell_type": "code",
      "source": [
        "drive.mount('/content/drive')\n",
        "sys.path.append('./scripts/utils/')"
      ],
      "metadata": {
        "colab": {
          "base_uri": "https://localhost:8080/"
        },
        "id": "ekkHxgG4co7e",
        "outputId": "82139398-5cb8-4f5f-b65c-4a920381bacc"
      },
      "execution_count": 2,
      "outputs": [
        {
          "output_type": "stream",
          "name": "stdout",
          "text": [
            "Drive already mounted at /content/drive; to attempt to forcibly remount, call drive.mount(\"/content/drive\", force_remount=True).\n"
          ]
        }
      ]
    },
    {
      "cell_type": "code",
      "source": [
        "import utils"
      ],
      "metadata": {
        "colab": {
          "base_uri": "https://localhost:8080/",
          "height": 393
        },
        "id": "FWRqFZA5F0Sn",
        "outputId": "a8b0cdb5-b8e0-4b17-90fb-cc35b265ef4a"
      },
      "execution_count": 3,
      "outputs": [
        {
          "output_type": "error",
          "ename": "ModuleNotFoundError",
          "evalue": "No module named 'utils'",
          "traceback": [
            "\u001b[0;31m---------------------------------------------------------------------------\u001b[0m",
            "\u001b[0;31mModuleNotFoundError\u001b[0m                       Traceback (most recent call last)",
            "\u001b[0;32m/tmp/ipython-input-2538371603.py\u001b[0m in \u001b[0;36m<cell line: 0>\u001b[0;34m()\u001b[0m\n\u001b[0;32m----> 1\u001b[0;31m \u001b[0;32mimport\u001b[0m \u001b[0mutils\u001b[0m\u001b[0;34m\u001b[0m\u001b[0;34m\u001b[0m\u001b[0m\n\u001b[0m",
            "\u001b[0;31mModuleNotFoundError\u001b[0m: No module named 'utils'",
            "",
            "\u001b[0;31m---------------------------------------------------------------------------\u001b[0;32m\nNOTE: If your import is failing due to a missing package, you can\nmanually install dependencies using either !pip or !apt.\n\nTo view examples of installing some common dependencies, click the\n\"Open Examples\" button below.\n\u001b[0;31m---------------------------------------------------------------------------\u001b[0m\n"
          ],
          "errorDetails": {
            "actions": [
              {
                "action": "open_url",
                "actionText": "Open Examples",
                "url": "/notebooks/snippets/importing_libraries.ipynb"
              }
            ]
          }
        }
      ]
    },
    {
      "cell_type": "code",
      "source": [
        "# Import Utils and Libraries\n",
        "%run '/content/drive/MyDrive/Projects/Hayfin Interview Assignment/scripts/utils/utils.py'\n",
        "%run '/content/drive/MyDrive/Projects/Hayfin Interview Assignment/scripts/utils/financial.py'\n",
        "%run '/content/drive/MyDrive/Projects/Hayfin Interview Assignment/scripts/utils/simulation.py'"
      ],
      "metadata": {
        "id": "Yyp1yGlYacCz"
      },
      "execution_count": 3,
      "outputs": []
    },
    {
      "cell_type": "code",
      "source": [
        "np.random.seed(42)"
      ],
      "metadata": {
        "id": "QeUSi-R5L-4L"
      },
      "execution_count": 4,
      "outputs": []
    },
    {
      "cell_type": "markdown",
      "source": [
        "# Helper Functions"
      ],
      "metadata": {
        "id": "QvUnubzUA-z9"
      }
    },
    {
      "cell_type": "markdown",
      "source": [
        "# Internal Rate of Returns"
      ],
      "metadata": {
        "id": "G8gMCoEk8fWh"
      }
    },
    {
      "cell_type": "markdown",
      "source": [
        "We start by reading the data, converting dates to datetime objects, calculating the time column, and confirming that: $$total\\_cf = coupon + delta\\_notional * price$$"
      ],
      "metadata": {
        "id": "1mqhoykZ8klL"
      }
    },
    {
      "cell_type": "code",
      "source": [
        "# Read data\n",
        "data = read_and_parse_dates(\"/content/drive/MyDrive/Projects/Hayfin Interview Assignment/data/raw/simple_fixed_coupon_rates.csv\")\n",
        "data = add_time_column(data)\n",
        "check_cashflow_consistency(data)"
      ],
      "metadata": {
        "colab": {
          "base_uri": "https://localhost:8080/"
        },
        "id": "JlVu58wZ8p1m",
        "outputId": "4c7463af-1842-4c5f-b717-589a26989829"
      },
      "execution_count": 5,
      "outputs": [
        {
          "output_type": "stream",
          "name": "stdout",
          "text": [
            "Number of mismatches: 0\n"
          ]
        }
      ]
    },
    {
      "cell_type": "code",
      "source": [
        "# Proof of datetime type\n",
        "data.info()"
      ],
      "metadata": {
        "colab": {
          "base_uri": "https://localhost:8080/"
        },
        "id": "fxWiixJG84lQ",
        "outputId": "9c1fda46-8ea6-4492-bd38-9ab852bab1a8"
      },
      "execution_count": 6,
      "outputs": [
        {
          "output_type": "stream",
          "name": "stdout",
          "text": [
            "<class 'pandas.core.frame.DataFrame'>\n",
            "RangeIndex: 24 entries, 0 to 23\n",
            "Data columns (total 9 columns):\n",
            " #   Column          Non-Null Count  Dtype         \n",
            "---  ------          --------------  -----         \n",
            " 0   company         24 non-null     object        \n",
            " 1   date            24 non-null     datetime64[ns]\n",
            " 2   coupon          24 non-null     float64       \n",
            " 3   delta_notional  24 non-null     float64       \n",
            " 4   price           24 non-null     float64       \n",
            " 5   total_cf        24 non-null     float64       \n",
            " 6   time            24 non-null     float64       \n",
            " 7   calculated_cf   24 non-null     float64       \n",
            " 8   cf_match        24 non-null     bool          \n",
            "dtypes: bool(1), datetime64[ns](1), float64(6), object(1)\n",
            "memory usage: 1.7+ KB\n"
          ]
        }
      ]
    },
    {
      "cell_type": "markdown",
      "source": [
        "## Cashflows"
      ],
      "metadata": {
        "id": "zH4kmmjc9U7B"
      }
    },
    {
      "cell_type": "markdown",
      "source": [
        "Plotting the cashflows as a function of time for each company."
      ],
      "metadata": {
        "id": "mKC1WcqY9U1N"
      }
    },
    {
      "cell_type": "code",
      "source": [
        "plot_grouped_time_series(\n",
        "    df=data,\n",
        "    group_col='company',\n",
        "    time_col='time',\n",
        "    value_cols=['total_cf', 'coupon', 'delta_notional'],\n",
        "    title_prefix='Company',\n",
        "    ylabel='Cashflow Components'\n",
        ")"
      ],
      "metadata": {
        "colab": {
          "base_uri": "https://localhost:8080/",
          "height": 1000
        },
        "id": "i_qic8tt9iKn",
        "outputId": "311ea18d-83d8-43dd-dd17-2966cee202ef"
      },
      "execution_count": 60,
      "outputs": [
        {
          "output_type": "display_data",
          "data": {
            "text/plain": [
              "<Figure size 1000x1200 with 3 Axes>"
            ],
            "image/png": "[encoded data removed]"
          },
          "metadata": {}
        }
      ]
    },
    {
      "cell_type": "markdown",
      "source": [
        "## NPV for different rates, separate and combined cashflows"
      ],
      "metadata": {
        "id": "WiC-GJWBp_08"
      }
    },
    {
      "cell_type": "markdown",
      "source": [
        "For each company, compute NPV for each company at discount rates:\n",
        "\n",
        "$r$=[0, 0.05, 0.1]:"
      ],
      "metadata": {
        "id": "iN1FtSkFc9gi"
      }
    },
    {
      "cell_type": "code",
      "source": [
        "rates_to_test = [0.00, 0.05, 0.10]\n",
        "\n",
        "# Per-company NPVs\n",
        "print(compute_grouped_npv(data, group_col='company', cashflow_col='total_cf', time_col='time', rates=[0.00, 0.05, 0.10]))\n",
        "\n",
        "# Combined NPVs\n",
        "print(compute_grouped_npv(data, group_col='combined', cashflow_col='total_cf', time_col='time', rates=[0.00, 0.05, 0.10]))"
      ],
      "metadata": {
        "colab": {
          "base_uri": "https://localhost:8080/"
        },
        "id": "or7pJqwGapul",
        "outputId": "009546b8-6930-4fb5-fb68-22f16b3631db"
      },
      "execution_count": 61,
      "outputs": [
        {
          "output_type": "stream",
          "name": "stdout",
          "text": [
            "rate (%)      0.00      0.05      0.10\n",
            "company                               \n",
            "A         6.000003  0.753185 -3.379901\n",
            "B         8.400000  2.482097 -1.807259\n",
            "C         9.000000  3.444042 -0.291771\n",
            "rate (%)       0.00      0.05      0.10\n",
            "group                                  \n",
            "All       23.400003  6.679324 -5.478932\n"
          ]
        }
      ]
    },
    {
      "cell_type": "markdown",
      "source": [
        "Also combine all cashflows together:"
      ],
      "metadata": {
        "id": "5i7rydfSdi_3"
      }
    },
    {
      "cell_type": "markdown",
      "source": [
        "## Gradients of NPV"
      ],
      "metadata": {
        "id": "ob_YzchEqEx5"
      }
    },
    {
      "cell_type": "markdown",
      "source": [
        "Calculate the gradients of NPV with respect to $r$ using all the cashflows for the following rates."
      ],
      "metadata": {
        "id": "vZc3F87NdmiP"
      }
    },
    {
      "cell_type": "code",
      "source": [
        "# Combine all cashflows and times from your dataset\n",
        "cf_all = jnp.array(data['total_cf'].values)\n",
        "t_all = jnp.array(data['time'].values)\n",
        "\n",
        "# Rates to evaluate\n",
        "rates = [0.00, 0.05, 0.10]\n",
        "\n",
        "# Run evaluation\n",
        "evaluate_npv_and_gradients(cf_all, t_all, rates)"
      ],
      "metadata": {
        "colab": {
          "base_uri": "https://localhost:8080/",
          "height": 175
        },
        "id": "ncsH0PgJdsfI",
        "outputId": "c86c81c5-fb77-46f7-c2c2-b3c6d082300a"
      },
      "execution_count": 62,
      "outputs": [
        {
          "output_type": "execute_result",
          "data": {
            "text/plain": [
              "                npv     dNPV/dr\n",
              "rate (%)                       \n",
              "0.00      23.400003 -391.600006\n",
              "0.05       6.679324 -283.531738\n",
              "0.10      -5.478932 -207.158844"
            ],
            "text/html": [
              "\n",
              "  <div id=\"df-1c315a98-e0e8-43b1-9c48-a18a6b6694a6\" class=\"colab-df-container\">\n",
              "    <div>\n",
              "<style scoped>\n",
              "    .dataframe tbody tr th:only-of-type {\n",
              "        vertical-align: middle;\n",
              "    }\n",
              "\n",
              "    .dataframe tbody tr th {\n",
              "        vertical-align: top;\n",
              "    }\n",
              "\n",
              "    .dataframe thead th {\n",
              "        text-align: right;\n",
              "    }\n",
              "</style>\n",
              "<table border=\"1\" class=\"dataframe\">\n",
              "  <thead>\n",
              "    <tr style=\"text-align: right;\">\n",
              "      <th></th>\n",
              "      <th>npv</th>\n",
              "      <th>dNPV/dr</th>\n",
              "    </tr>\n",
              "    <tr>\n",
              "      <th>rate (%)</th>\n",
              "      <th></th>\n",
              "      <th></th>\n",
              "    </tr>\n",
              "  </thead>\n",
              "  <tbody>\n",
              "    <tr>\n",
              "      <th>0.00</th>\n",
              "      <td>23.400003</td>\n",
              "      <td>-391.600006</td>\n",
              "    </tr>\n",
              "    <tr>\n",
              "      <th>0.05</th>\n",
              "      <td>6.679324</td>\n",
              "      <td>-283.531738</td>\n",
              "    </tr>\n",
              "    <tr>\n",
              "      <th>0.10</th>\n",
              "      <td>-5.478932</td>\n",
              "      <td>-207.158844</td>\n",
              "    </tr>\n",
              "  </tbody>\n",
              "</table>\n",
              "</div>\n",
              "    <div class=\"colab-df-buttons\">\n",
              "\n",
              "  <div class=\"colab-df-container\">\n",
              "    <button class=\"colab-df-convert\" onclick=\"convertToInteractive('df-1c315a98-e0e8-43b1-9c48-a18a6b6694a6')\"\n",
              "            title=\"Convert this dataframe to an interactive table.\"\n",
              "            style=\"display:none;\">\n",
              "\n",
              "  <svg xmlns=\"http://www.w3.org/2000/svg\" height=\"24px\" viewBox=\"0 -960 960 960\">\n",
              "    <path d=\"M120-120v-720h720v720H120Zm60-500h600v-160H180v160Zm220 220h160v-160H400v160Zm0 220h160v-160H400v160ZM180-400h160v-160H180v160Zm440 0h160v-160H620v160ZM180-180h160v-160H180v160Zm440 0h160v-160H620v160Z\"/>\n",
              "  </svg>\n",
              "    </button>\n",
              "\n",
              "  <style>\n",
              "    .colab-df-container {\n",
              "      display:flex;\n",
              "      gap: 12px;\n",
              "    }\n",
              "\n",
              "    .colab-df-convert {\n",
              "      background-color: #E8F0FE;\n",
              "      border: none;\n",
              "      border-radius: 50%;\n",
              "      cursor: pointer;\n",
              "      display: none;\n",
              "      fill: #1967D2;\n",
              "      height: 32px;\n",
              "      padding: 0 0 0 0;\n",
              "      width: 32px;\n",
              "    }\n",
              "\n",
              "    .colab-df-convert:hover {\n",
              "      background-color: #E2EBFA;\n",
              "      box-shadow: 0px 1px 2px rgba(60, 64, 67, 0.3), 0px 1px 3px 1px rgba(60, 64, 67, 0.15);\n",
              "      fill: #174EA6;\n",
              "    }\n",
              "\n",
              "    .colab-df-buttons div {\n",
              "      margin-bottom: 4px;\n",
              "    }\n",
              "\n",
              "    [theme=dark] .colab-df-convert {\n",
              "      background-color: #3B4455;\n",
              "      fill: #D2E3FC;\n",
              "    }\n",
              "\n",
              "    [theme=dark] .colab-df-convert:hover {\n",
              "      background-color: #434B5C;\n",
              "      box-shadow: 0px 1px 3px 1px rgba(0, 0, 0, 0.15);\n",
              "      filter: drop-shadow(0px 1px 2px rgba(0, 0, 0, 0.3));\n",
              "      fill: #FFFFFF;\n",
              "    }\n",
              "  </style>\n",
              "\n",
              "    <script>\n",
              "      const buttonEl =\n",
              "        document.querySelector('#df-1c315a98-e0e8-43b1-9c48-a18a6b6694a6 button.colab-df-convert');\n",
              "      buttonEl.style.display =\n",
              "        google.colab.kernel.accessAllowed ? 'block' : 'none';\n",
              "\n",
              "      async function convertToInteractive(key) {\n",
              "        const element = document.querySelector('#df-1c315a98-e0e8-43b1-9c48-a18a6b6694a6');\n",
              "        const dataTable =\n",
              "          await google.colab.kernel.invokeFunction('convertToInteractive',\n",
              "                                                    [key], {});\n",
              "        if (!dataTable) return;\n",
              "\n",
              "        const docLinkHtml = 'Like what you see? Visit the ' +\n",
              "          '<a target=\"_blank\" href=https://colab.research.google.com/notebooks/data_table.ipynb>data table notebook</a>'\n",
              "          + ' to learn more about interactive tables.';\n",
              "        element.innerHTML = '';\n",
              "        dataTable['output_type'] = 'display_data';\n",
              "        await google.colab.output.renderOutput(dataTable, element);\n",
              "        const docLink = document.createElement('div');\n",
              "        docLink.innerHTML = docLinkHtml;\n",
              "        element.appendChild(docLink);\n",
              "      }\n",
              "    </script>\n",
              "  </div>\n",
              "\n",
              "\n",
              "    <div id=\"df-242352f8-d87f-4f61-a795-8a6c686e42cb\">\n",
              "      <button class=\"colab-df-quickchart\" onclick=\"quickchart('df-242352f8-d87f-4f61-a795-8a6c686e42cb')\"\n",
              "                title=\"Suggest charts\"\n",
              "                style=\"display:none;\">\n",
              "\n",
              "<svg xmlns=\"http://www.w3.org/2000/svg\" height=\"24px\"viewBox=\"0 0 24 24\"\n",
              "     width=\"24px\">\n",
              "    <g>\n",
              "        <path d=\"M19 3H5c-1.1 0-2 .9-2 2v14c0 1.1.9 2 2 2h14c1.1 0 2-.9 2-2V5c0-1.1-.9-2-2-2zM9 17H7v-7h2v7zm4 0h-2V7h2v10zm4 0h-2v-4h2v4z\"/>\n",
              "    </g>\n",
              "</svg>\n",
              "      </button>\n",
              "\n",
              "<style>\n",
              "  .colab-df-quickchart {\n",
              "      --bg-color: #E8F0FE;\n",
              "      --fill-color: #1967D2;\n",
              "      --hover-bg-color: #E2EBFA;\n",
              "      --hover-fill-color: #174EA6;\n",
              "      --disabled-fill-color: #AAA;\n",
              "      --disabled-bg-color: #DDD;\n",
              "  }\n",
              "\n",
              "  [theme=dark] .colab-df-quickchart {\n",
              "      --bg-color: #3B4455;\n",
              "      --fill-color: #D2E3FC;\n",
              "      --hover-bg-color: #434B5C;\n",
              "      --hover-fill-color: #FFFFFF;\n",
              "      --disabled-bg-color: #3B4455;\n",
              "      --disabled-fill-color: #666;\n",
              "  }\n",
              "\n",
              "  .colab-df-quickchart {\n",
              "    background-color: var(--bg-color);\n",
              "    border: none;\n",
              "    border-radius: 50%;\n",
              "    cursor: pointer;\n",
              "    display: none;\n",
              "    fill: var(--fill-color);\n",
              "    height: 32px;\n",
              "    padding: 0;\n",
              "    width: 32px;\n",
              "  }\n",
              "\n",
              "  .colab-df-quickchart:hover {\n",
              "    background-color: var(--hover-bg-color);\n",
              "    box-shadow: 0 1px 2px rgba(60, 64, 67, 0.3), 0 1px 3px 1px rgba(60, 64, 67, 0.15);\n",
              "    fill: var(--button-hover-fill-color);\n",
              "  }\n",
              "\n",
              "  .colab-df-quickchart-complete:disabled,\n",
              "  .colab-df-quickchart-complete:disabled:hover {\n",
              "    background-color: var(--disabled-bg-color);\n",
              "    fill: var(--disabled-fill-color);\n",
              "    box-shadow: none;\n",
              "  }\n",
              "\n",
              "  .colab-df-spinner {\n",
              "    border: 2px solid var(--fill-color);\n",
              "    border-color: transparent;\n",
              "    border-bottom-color: var(--fill-color);\n",
              "    animation:\n",
              "      spin 1s steps(1) infinite;\n",
              "  }\n",
              "\n",
              "  @keyframes spin {\n",
              "    0% {\n",
              "      border-color: transparent;\n",
              "      border-bottom-color: var(--fill-color);\n",
              "      border-left-color: var(--fill-color);\n",
              "    }\n",
              "    20% {\n",
              "      border-color: transparent;\n",
              "      border-left-color: var(--fill-color);\n",
              "      border-top-color: var(--fill-color);\n",
              "    }\n",
              "    30% {\n",
              "      border-color: transparent;\n",
              "      border-left-color: var(--fill-color);\n",
              "      border-top-color: var(--fill-color);\n",
              "      border-right-color: var(--fill-color);\n",
              "    }\n",
              "    40% {\n",
              "      border-color: transparent;\n",
              "      border-right-color: var(--fill-color);\n",
              "      border-top-color: var(--fill-color);\n",
              "    }\n",
              "    60% {\n",
              "      border-color: transparent;\n",
              "      border-right-color: var(--fill-color);\n",
              "    }\n",
              "    80% {\n",
              "      border-color: transparent;\n",
              "      border-right-color: var(--fill-color);\n",
              "      border-bottom-color: var(--fill-color);\n",
              "    }\n",
              "    90% {\n",
              "      border-color: transparent;\n",
              "      border-bottom-color: var(--fill-color);\n",
              "    }\n",
              "  }\n",
              "</style>\n",
              "\n",
              "      <script>\n",
              "        async function quickchart(key) {\n",
              "          const quickchartButtonEl =\n",
              "            document.querySelector('#' + key + ' button');\n",
              "          quickchartButtonEl.disabled = true;  // To prevent multiple clicks.\n",
              "          quickchartButtonEl.classList.add('colab-df-spinner');\n",
              "          try {\n",
              "            const charts = await google.colab.kernel.invokeFunction(\n",
              "                'suggestCharts', [key], {});\n",
              "          } catch (error) {\n",
              "            console.error('Error during call to suggestCharts:', error);\n",
              "          }\n",
              "          quickchartButtonEl.classList.remove('colab-df-spinner');\n",
              "          quickchartButtonEl.classList.add('colab-df-quickchart-complete');\n",
              "        }\n",
              "        (() => {\n",
              "          let quickchartButtonEl =\n",
              "            document.querySelector('#df-242352f8-d87f-4f61-a795-8a6c686e42cb button');\n",
              "          quickchartButtonEl.style.display =\n",
              "            google.colab.kernel.accessAllowed ? 'block' : 'none';\n",
              "        })();\n",
              "      </script>\n",
              "    </div>\n",
              "\n",
              "    </div>\n",
              "  </div>\n"
            ],
            "application/vnd.google.colaboratory.intrinsic+json": {
              "type": "dataframe",
              "summary": "{\n  \"name\": \"evaluate_npv_and_gradients(cf_all, t_all, rates)\",\n  \"rows\": 3,\n  \"fields\": [\n    {\n      \"column\": \"rate (%)\",\n      \"properties\": {\n        \"dtype\": \"number\",\n        \"std\": 0.05,\n        \"min\": 0.0,\n        \"max\": 0.1,\n        \"num_unique_values\": 3,\n        \"samples\": [\n          0.0,\n          0.05,\n          0.1\n        ],\n        \"semantic_type\": \"\",\n        \"description\": \"\"\n      }\n    },\n    {\n      \"column\": \"npv\",\n      \"properties\": {\n        \"dtype\": \"number\",\n        \"std\": 14.49940947821142,\n        \"min\": -5.4789323806762695,\n        \"max\": 23.40000343322754,\n        \"num_unique_values\": 3,\n        \"samples\": [\n          23.40000343322754,\n          6.679324150085449,\n          -5.4789323806762695\n        ],\n        \"semantic_type\": \"\",\n        \"description\": \"\"\n      }\n    },\n    {\n      \"column\": \"dNPV/dr\",\n      \"properties\": {\n        \"dtype\": \"number\",\n        \"std\": 92.67336166356154,\n        \"min\": -391.6000061035156,\n        \"max\": -207.15884399414062,\n        \"num_unique_values\": 3,\n        \"samples\": [\n          -391.6000061035156,\n          -283.53173828125,\n          -207.15884399414062\n        ],\n        \"semantic_type\": \"\",\n        \"description\": \"\"\n      }\n    }\n  ]\n}"
            }
          },
          "metadata": {},
          "execution_count": 62
        }
      ]
    },
    {
      "cell_type": "markdown",
      "source": [
        "## Internal Rate of Return"
      ],
      "metadata": {
        "id": "zcmNCC8WqGBV"
      }
    },
    {
      "cell_type": "markdown",
      "source": [
        "IRR for each company"
      ],
      "metadata": {
        "id": "JeNr17preBrm"
      }
    },
    {
      "cell_type": "code",
      "source": [
        "# Original IRR by company\n",
        "irr_by_company = evaluate_irr(data, combine=False)\n",
        "print(irr_by_company)\n",
        "\n",
        "# Original IRR for all cashflows combined\n",
        "irr_combined = evaluate_irr(data, combine=True)\n",
        "print(irr_combined)\n",
        "\n",
        "# IRR after changing price at t=0 to 0.90 (by company)\n",
        "irr_90, data_90 = evaluate_irr(data, new_price=0.90, change_price=True, combine=False)\n",
        "print(irr_90)\n",
        "\n",
        "# IRR after changing price at t=0 to 0.90 (combined)\n",
        "irr_90_combined, _ = evaluate_irr(data, new_price=0.90, change_price=True, combine=True)\n",
        "print(irr_90_combined)\n",
        "\n",
        "# IRR after changing price at t=0 to 1.10 (by company)\n",
        "irr_110, data_110 = evaluate_irr(data, new_price=1.10, change_price=True, combine=False)\n",
        "print(irr_110)\n",
        "\n",
        "# IRR after changing price at t=0 to 1.10 (combined)\n",
        "irr_110_combined, _ = evaluate_irr(data, new_price=1.10, change_price=True, combine=True)\n",
        "print(irr_110_combined)\n",
        "\n"
      ],
      "metadata": {
        "colab": {
          "base_uri": "https://localhost:8080/"
        },
        "id": "UHup_L0FeJNO",
        "outputId": "a872c8e9-bff5-49da-fe7e-b7943ab63aa2"
      },
      "execution_count": 63,
      "outputs": [
        {
          "output_type": "stream",
          "name": "stdout",
          "text": [
            "         IRR (continuous)  IRR (simple)\n",
            "company                                \n",
            "A                0.058269          0.06\n",
            "B                0.076961          0.08\n",
            "C                0.095310          0.10\n",
            "          IRR (continuous)  IRR (simple)\n",
            "group                                   \n",
            "Combined          0.075514      0.078438\n",
            "         IRR (continuous)  IRR (simple)\n",
            "company                                \n",
            "A                0.081952      0.085403\n",
            "B                0.095837      0.100580\n",
            "C                0.112143      0.118673\n",
            "          IRR (continuous)  IRR (simple)\n",
            "group                                   \n",
            "Combined          0.095342      0.100035\n",
            "         IRR (continuous)  IRR (simple)\n",
            "company                                \n",
            "A                0.036991      0.037683\n",
            "B                0.060118      0.061961\n",
            "C                0.080420      0.083742\n",
            "          IRR (continuous)  IRR (simple)\n",
            "group                                   \n",
            "Combined          0.057881      0.059588\n"
          ]
        }
      ]
    },
    {
      "cell_type": "markdown",
      "source": [
        "IRR goes down, you pay more to receive the same stream of future cashflows."
      ],
      "metadata": {
        "id": "2_-22STvlUO5"
      }
    },
    {
      "cell_type": "markdown",
      "source": [
        "## Task 10"
      ],
      "metadata": {
        "id": "FIOBDxLrqMQq"
      }
    },
    {
      "cell_type": "markdown",
      "source": [
        "10. Calculate the IRR gradient with respect to $cf$ and $t$. Only use Company A's cashflows for this exercise."
      ],
      "metadata": {
        "id": "wnylaeYvlnK4"
      }
    },
    {
      "cell_type": "code",
      "source": [
        "# -----------------------------\n",
        "# Select Company A\n",
        "# -----------------------------\n",
        "\n",
        "df_A = data[data['company'] == 'A'].copy()\n",
        "cf_A = jnp.array(df_A['total_cf'].values)\n",
        "\n",
        "# Local time anchor (set t = 0 at first cashflow date for Company A)\n",
        "min_date_A = df_A['date'].min()\n",
        "t_A_local = jnp.array((df_A['date'] - min_date_A).dt.days / 365)\n",
        "\n",
        "# -----------------------------\n",
        "# Baseline IRR\n",
        "# -----------------------------\n",
        "\n",
        "r_base = IRR(cf_A, t_A_local)\n",
        "\n",
        "# -----------------------------\n",
        "# Perturb cf by +0.01 and compute new IRR\n",
        "# -----------------------------\n",
        "\n",
        "cf_perturbed = cf_A + 0.01\n",
        "r_cf_perturbed = IRR(cf_perturbed, t_A_local)\n",
        "delta_r_cf = r_cf_perturbed - r_base\n",
        "\n",
        "# -----------------------------\n",
        "# Perturb t by +1/12 year and compute new IRR\n",
        "# -----------------------------\n",
        "\n",
        "t_perturbed = t_A_local + 1/12\n",
        "r_t_perturbed = IRR(cf_A, t_perturbed)\n",
        "delta_r_t = r_t_perturbed - r_base\n",
        "\n",
        "# -----------------------------\n",
        "# Compute Gradients wrt cf and t\n",
        "# -----------------------------\n",
        "\n",
        "grad_cf = jax.grad(lambda cf: IRR(cf, t_A_local))(cf_A)\n",
        "grad_t = jax.grad(lambda t: IRR(cf_A, t))(t_A_local)\n",
        "\n",
        "# -----------------------------\n",
        "# Approximate ΔIRR using gradients (first-order)\n",
        "# -----------------------------\n",
        "\n",
        "delta_cf = jnp.ones_like(cf_A) * 0.01\n",
        "delta_t = jnp.ones_like(t_A_local) * (1 / 12)\n",
        "\n",
        "approx_delta_r_cf = jnp.dot(grad_cf, delta_cf)\n",
        "approx_delta_r_t = jnp.dot(grad_t, delta_t)\n",
        "\n",
        "# -----------------------------\n",
        "# Print results\n",
        "# -----------------------------\n",
        "\n",
        "print(\"=== BASELINE IRR (Company A) ===\")\n",
        "print(f\"IRR (continuous): {r_base:.8f}\")\n",
        "\n",
        "print(\"\\n=== Actual IRR Changes ===\")\n",
        "print(f\"Δ IRR from cashflow +0.01     : {delta_r_cf:.12f}\")\n",
        "print(f\"Δ IRR from time +1/12 year    : {delta_r_t:.12f}\")\n",
        "\n",
        "print(\"\\n=== First-Order Approximations ===\")\n",
        "print(f\"Estimated Δ IRR from grad_cf  : {approx_delta_r_cf:.12f}\")\n",
        "print(f\"Estimated Δ IRR from grad_t   : {approx_delta_r_t:.12f}\")\n",
        "\n",
        "print(\"\\n=== Interpretation ===\")\n",
        "print(\"- Positive ∂IRR/∂cf: IRR increases when future cashflows increase.\")\n",
        "print(\"- Negative ∂IRR/∂t: IRR decreases when cashflows are delayed.\")\n",
        "print(\"- First-order gradient approximations closely match actual IRR changes.\")"
      ],
      "metadata": {
        "colab": {
          "base_uri": "https://localhost:8080/"
        },
        "id": "kZEGtBFmlLzp",
        "outputId": "4d787e76-2983-4819-ffcf-bea8ec4fbefe"
      },
      "execution_count": 64,
      "outputs": [
        {
          "output_type": "stream",
          "name": "stdout",
          "text": [
            "=== BASELINE IRR (Company A) ===\n",
            "IRR (continuous): 0.05826892\n",
            "\n",
            "=== Actual IRR Changes ===\n",
            "Δ IRR from cashflow +0.01     : 0.000583693385\n",
            "Δ IRR from time +1/12 year    : 0.000000003725\n",
            "\n",
            "=== First-Order Approximations ===\n",
            "Estimated Δ IRR from grad_cf  : 0.000583677494\n",
            "Estimated Δ IRR from grad_t   : 0.000000000116\n",
            "\n",
            "=== Interpretation ===\n",
            "- Positive ∂IRR/∂cf: IRR increases when future cashflows increase.\n",
            "- Negative ∂IRR/∂t: IRR decreases when cashflows are delayed.\n",
            "- First-order gradient approximations closely match actual IRR changes.\n"
          ]
        }
      ]
    },
    {
      "cell_type": "markdown",
      "source": [
        "### Key Financial Insight\n",
        "\n",
        "IRR is invariant to uniform shifts in time when the structure of the cashflows remains the same. This means:\n",
        "\n",
        "* Pushing all cashflows forward by one month without changing spacing or scale doesn’t change their yield-to-cost ratio.\n",
        "* IRR is more sensitive to changes in shape (e.g. front-loading vs back-loading payments), not simple shifts.\n",
        "\n"
      ],
      "metadata": {
        "id": "qnrpBS4mpzBJ"
      }
    },
    {
      "cell_type": "markdown",
      "source": [
        "# Simulating Defaults"
      ],
      "metadata": {
        "id": "NE_0LCaoqTw1"
      }
    },
    {
      "cell_type": "markdown",
      "source": [
        "## Survival Probability Formulas"
      ],
      "metadata": {
        "id": "tJmQOmFVqN9J"
      }
    },
    {
      "cell_type": "markdown",
      "source": [
        "If $S$ = P(Survival Per Period) = $1 - PD = 0.85$\n",
        "\n",
        "$P($no default over n periods$) = (1-PD)^n = 0.85^n$"
      ],
      "metadata": {
        "id": "PVYx-QBFqPZF"
      }
    },
    {
      "cell_type": "markdown",
      "source": [
        "## Simulating Cashflows with Default Risk\n",
        "\n",
        "Simulated **cashflows**"
      ],
      "metadata": {
        "id": "JoYl1RCQwrkz"
      }
    },
    {
      "cell_type": "code",
      "source": [
        "# Setup\n",
        "PD = 0.15\n",
        "recovery_price = 0.7\n",
        "\n",
        "# 11\n",
        "n_periods = data[data['company'] == 'A'].shape[0]\n",
        "print(\"Theoretical no-default prob:\", prob_no_default(PD, n_periods))"
      ],
      "metadata": {
        "colab": {
          "base_uri": "https://localhost:8080/"
        },
        "id": "yNlKVM_W48WK",
        "outputId": "6fc60358-6f15-44e8-e930-3a757056b02d"
      },
      "execution_count": 114,
      "outputs": [
        {
          "output_type": "stream",
          "name": "stdout",
          "text": [
            "Theoretical no-default prob: 0.37714951562499993\n"
          ]
        }
      ]
    },
    {
      "cell_type": "code",
      "source": [
        "# 12\n",
        "sim_results = simulate_defaults(data, PD, recovery_price)"
      ],
      "metadata": {
        "id": "HeoA3QDs48Rn"
      },
      "execution_count": 115,
      "outputs": []
    },
    {
      "cell_type": "code",
      "source": [
        "# 13\n",
        "total_cf_all = aggregate_total_cashflows(sim_results)\n",
        "print(\"Avg total CF:\", np.mean(total_cf_all))\n",
        "print(\"Std total CF:\", np.std(total_cf_all))"
      ],
      "metadata": {
        "colab": {
          "base_uri": "https://localhost:8080/"
        },
        "id": "IUBFR6R-5BDA",
        "outputId": "13f76eaa-5546-4e53-fc8e-93fa44ef2be9"
      },
      "execution_count": 117,
      "outputs": [
        {
          "output_type": "stream",
          "name": "stdout",
          "text": [
            "Avg total CF: -12.211679999999976\n",
            "Std total CF: 16.166925235727422\n"
          ]
        }
      ]
    },
    {
      "cell_type": "code",
      "source": [
        "irrs = simulate_irrs(sim_results)"
      ],
      "metadata": {
        "id": "IS_-hRax5A9c"
      },
      "execution_count": 118,
      "outputs": []
    },
    {
      "cell_type": "code",
      "source": [
        "print(\"Valid IRRs:\", len(irrs))\n",
        "print(\"Avg IRR:\", np.mean(irrs))\n",
        "print(\"Std IRR:\", np.std(irrs))"
      ],
      "metadata": {
        "colab": {
          "base_uri": "https://localhost:8080/"
        },
        "id": "-mIHFBx456M1",
        "outputId": "603be994-e803-4f30-e8ae-b039252e7c23"
      },
      "execution_count": 119,
      "outputs": [
        {
          "output_type": "stream",
          "name": "stdout",
          "text": [
            "Valid IRRs: 9964\n",
            "Avg IRR: -0.16472873\n",
            "Std IRR: 0.29015368\n"
          ]
        }
      ]
    },
    {
      "cell_type": "code",
      "source": [
        "import matplotlib.pyplot as plt\n",
        "\n",
        "# Step 1: Stack all company CF matrices and times\n",
        "cf_matrix = np.vstack([v['cf_mat'] for v in sim_results.values()])     # shape (n_periods_total, n_sims)\n",
        "time_vector = np.concatenate([v['times'] for v in sim_results.values()])  # shape (n_periods_total,)\n",
        "\n",
        "# Step 2: Convert to JAX arrays\n",
        "cf_matrix_jax = jnp.array(cf_matrix.T)     # shape (n_sims, n_periods_total)\n",
        "time_vector_jax = jnp.array(time_vector)   # shape (n_periods_total,)\n",
        "\n",
        "# Step 3: Vectorized IRR with safety wrapper\n",
        "@vmap\n",
        "def compute_irr_safe(cf_row):\n",
        "    is_zero = jnp.all(cf_row == 0.0)\n",
        "    return lax.cond(is_zero,\n",
        "                    lambda _: jnp.nan,\n",
        "                    lambda _: IRR(cf_row, time_vector_jax),\n",
        "                    operand=None)\n",
        "\n",
        "irrs = np.array(compute_irr_safe(cf_matrix_jax))\n",
        "irrs = irrs[~np.isnan(irrs)]\n",
        "\n",
        "# Step 4: Report stats and plot\n",
        "print(\"Q14:\")\n",
        "print(f\"  Average IRR: {irrs.mean():.4%}\")\n",
        "print(f\"  Std. Dev IRR: {irrs.std():.4%}\")\n",
        "\n",
        "plt.figure(figsize=(8, 4))\n",
        "plt.hist(irrs, bins=50, edgecolor='k')\n",
        "plt.title(\"Histogram of Simulated IRRs (Q14)\")\n",
        "plt.xlabel(\"IRR (continuous)\")\n",
        "plt.ylabel(\"Frequency\")\n",
        "plt.grid(True)\n",
        "plt.tight_layout()\n",
        "plt.show()\n"
      ],
      "metadata": {
        "colab": {
          "base_uri": "https://localhost:8080/",
          "height": 381
        },
        "id": "IuU6_oUX8YM7",
        "outputId": "ee004e0e-1dff-48f4-a17e-7a19446abaeb"
      },
      "execution_count": 120,
      "outputs": [
        {
          "output_type": "stream",
          "name": "stdout",
          "text": [
            "Q14:\n",
            "  Average IRR: -16.4729%\n",
            "  Std. Dev IRR: 29.0154%\n"
          ]
        },
        {
          "output_type": "display_data",
          "data": {
            "text/plain": [
              "<Figure size 800x400 with 1 Axes>"
            ],
            "image/png": "[encoded data removed]"
          },
          "metadata": {}
        }
      ]
    },
    {
      "cell_type": "code",
      "source": [
        "from scipy.optimize import brentq\n",
        "\n",
        "# Step 1: Compute IRR with no defaults\n",
        "df_no_default = data.copy()\n",
        "df_no_default['total_cf'] = df_no_default['coupon'] + df_no_default['delta_notional'] * df_no_default['price']\n",
        "cf_no_default = df_no_default.groupby('time')['total_cf'].sum().sort_index().to_numpy()\n",
        "t_no_default  = df_no_default.groupby('time')['time'].first().sort_index().to_numpy()\n",
        "\n",
        "IRR_no_default = IRR(jnp.array(cf_no_default), jnp.array(t_no_default))\n",
        "print(f\"IRR (no default): {IRR_no_default:.4%}\")\n",
        "\n",
        "# Step 2: Define objective function to match simulated IRR to no-default IRR\n",
        "def expected_irr_given_price(p0):\n",
        "    df_p = data.copy()\n",
        "    t0 = df_p['time'].min()\n",
        "    df_p.loc[df_p['time'] == t0, 'price'] = p0\n",
        "    df_p['total_cf'] = df_p['coupon'] + df_p['delta_notional'] * df_p['price']\n",
        "\n",
        "    sim_res_p = simulate_defaults(df_p, PD, recovery_price)\n",
        "    cf_mat = np.vstack([v['cf_mat'] for v in sim_res_p.values()])\n",
        "    times = np.concatenate([v['times'] for v in sim_res_p.values()])\n",
        "\n",
        "    cf_mat_jax = jnp.array(cf_mat.T)\n",
        "    times_jax = jnp.array(times)\n",
        "\n",
        "    @vmap\n",
        "    def irr_sim(cf_row):\n",
        "        is_zero = jnp.all(cf_row == 0.0)\n",
        "        return lax.cond(is_zero,\n",
        "                        lambda _: jnp.nan,\n",
        "                        lambda _: IRR(cf_row, times_jax),\n",
        "                        operand=None)\n",
        "\n",
        "    irrs_p = np.array(irr_sim(cf_mat_jax))\n",
        "    irrs_p = irrs_p[~np.isnan(irrs_p)]\n",
        "\n",
        "    return irrs_p.mean()\n",
        "\n",
        "# Step 3: Root find entrance price P0 such that expected IRR ≈ IRR_no_default\n",
        "def price_objective(p0):\n",
        "    return expected_irr_given_price(p0) - float(IRR_no_default)\n",
        "\n",
        "fair_price = brentq(price_objective, 0.15, 0.5)\n",
        "print(f\"Q15: Fair entrance price P0 = {fair_price:.4f}\")\n"
      ],
      "metadata": {
        "colab": {
          "base_uri": "https://localhost:8080/"
        },
        "id": "xUjuPMKy8iui",
        "outputId": "f202a6a2-8995-4127-e093-7eb9690b2151"
      },
      "execution_count": 121,
      "outputs": [
        {
          "output_type": "stream",
          "name": "stdout",
          "text": [
            "IRR (no default): 7.5514%\n",
            "Q15: Fair entrance price P0 = 0.3703\n"
          ]
        }
      ]
    },
    {
      "cell_type": "code",
      "source": [
        "print(f\"P0 = 0.15 → IRR = {expected_irr_given_price(0.15):.4%}\")\n",
        "print(f\"P0 = 0.5 → IRR = {expected_irr_given_price(0.5):.4%}\")\n",
        "print(f\"Target IRR (no default) = {float(IRR_no_default):.4%}\")"
      ],
      "metadata": {
        "colab": {
          "base_uri": "https://localhost:8080/"
        },
        "id": "TC_VwgrJ9Y9u",
        "outputId": "0e4735c2-89a0-43c7-c165-dd956c53c794"
      },
      "execution_count": 122,
      "outputs": [
        {
          "output_type": "stream",
          "name": "stdout",
          "text": [
            "P0 = 0.15 → IRR = 36.1476%\n",
            "P0 = 0.5 → IRR = -0.4801%\n",
            "Target IRR (no default) = 7.5514%\n"
          ]
        }
      ]
    }
  ]
}